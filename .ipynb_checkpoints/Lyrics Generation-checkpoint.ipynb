{
 "cells": [
  {
   "cell_type": "code",
   "execution_count": 1,
   "metadata": {},
   "outputs": [],
   "source": [
    "text=\"the man was .... they ... then ... the ,,,, they .. the \""
   ]
  },
  {
   "cell_type": "code",
   "execution_count": 2,
   "metadata": {},
   "outputs": [],
   "source": [
    "import numpy as np"
   ]
  },
  {
   "cell_type": "code",
   "execution_count": 3,
   "metadata": {},
   "outputs": [],
   "source": [
    "def generatedata(doc,k=4):\n",
    "    data={}\n",
    "    for i in range(len(doc)-k):\n",
    "        word   = doc[i:i+k]\n",
    "        letter = doc[i+k]\n",
    "        \n",
    "        if word in data:\n",
    "            if letter in data[word]:\n",
    "                data[word][letter]+=1\n",
    "            else:\n",
    "                data[word][letter]=1\n",
    "                \n",
    "        else:\n",
    "            data[word]={}\n",
    "            data[word][letter]=1\n",
    "        \n",
    "    return data"
   ]
  },
  {
   "cell_type": "code",
   "execution_count": 4,
   "metadata": {},
   "outputs": [],
   "source": [
    "def convertToProbability(data):\n",
    "    \n",
    "    for word in data.keys():\n",
    "        n=sum(list(data[word].values()))\n",
    "        for i in data[word].keys():\n",
    "            data[word][i]=data[word][i]/n\n",
    "    \n",
    "    return data"
   ]
  },
  {
   "cell_type": "code",
   "execution_count": 5,
   "metadata": {},
   "outputs": [],
   "source": [
    "T=generatedata(text)\n",
    "T=convertToProbability(T)"
   ]
  },
  {
   "cell_type": "markdown",
   "metadata": {},
   "source": [
    "# Sampling "
   ]
  },
  {
   "cell_type": "code",
   "execution_count": 6,
   "metadata": {},
   "outputs": [],
   "source": [
    "l=['apple','mango','banana','orange']\n",
    "probabs=[0.5,0.3,0.15,.05]"
   ]
  },
  {
   "cell_type": "code",
   "execution_count": 7,
   "metadata": {},
   "outputs": [
    {
     "name": "stdout",
     "output_type": "stream",
     "text": [
      "mango\n",
      "mango\n",
      "banana\n",
      "apple\n",
      "apple\n",
      "apple\n",
      "mango\n",
      "apple\n",
      "apple\n",
      "apple\n",
      "mango\n",
      "apple\n",
      "banana\n",
      "apple\n",
      "apple\n",
      "apple\n",
      "banana\n",
      "apple\n",
      "apple\n",
      "mango\n"
     ]
    }
   ],
   "source": [
    "for i in range(20):\n",
    "    print(np.random.choice(l,p=probabs))"
   ]
  },
  {
   "cell_type": "markdown",
   "metadata": {},
   "source": [
    "# Generating Text"
   ]
  },
  {
   "cell_type": "code",
   "execution_count": 8,
   "metadata": {},
   "outputs": [],
   "source": [
    "def generateText(starting_sent,T,k=4,max_len=1000):\n",
    "    sentence = starting_sent\n",
    "    \n",
    "    for i in range(max_len):\n",
    "        \n",
    "        word=sentence[-k:]\n",
    "        \n",
    "        next_char=\" \"\n",
    "        if word in T:\n",
    "            chars=list(T[word].keys())\n",
    "            prob=list(T[word].values())\n",
    "            next_char=np.random.choice(chars,p=prob)\n",
    "        \n",
    "        sentence+=next_char\n",
    "    return sentence"
   ]
  },
  {
   "cell_type": "code",
   "execution_count": 9,
   "metadata": {},
   "outputs": [
    {
     "data": {
      "text/plain": [
       "'the man was ... they .. they .... the ,,,, they .... the ,,,, the ,,,, the ,,,, the man was ... they .... the ,,,, then .... they .. they .. they ... the man was .... the man was .... the ,,,, they .... they .. the ,,,, the man was ... they ... the man was .... the man was .... they ... then ... then .... the ,,,, they .. they .... they .... they .... the ,,,, they ... then ... the man was ... they .. they .. they .. they .. the man was ... then ... they .... they ... then ... they .. they ... the ,,,, the man was .... the ,,,, they .. the ,,,, the ,,,, the man was ... the ,,,, they .... then .... they ... they ... then ... the ,,,, they ... they ... then ... then ... the man was ... the man was .... the man was ... the man was ... the man was ... they .. they .. the man was ... the man was ... the ,,,, the man was ... they ... they .. the man was ... the man was .... then .... the man was ... they .. they ... the ,,,, they ... the ,,,, the man was .... they .... the ,,,, the man was .... '"
      ]
     },
     "execution_count": 9,
     "metadata": {},
     "output_type": "execute_result"
    }
   ],
   "source": [
    "generateText(\"the \",T)"
   ]
  },
  {
   "cell_type": "code",
   "execution_count": 15,
   "metadata": {},
   "outputs": [],
   "source": []
  }
 ],
 "metadata": {
  "kernelspec": {
   "display_name": "Python 3",
   "language": "python",
   "name": "python3"
  },
  "language_info": {
   "codemirror_mode": {
    "name": "ipython",
    "version": 3
   },
   "file_extension": ".py",
   "mimetype": "text/x-python",
   "name": "python",
   "nbconvert_exporter": "python",
   "pygments_lexer": "ipython3",
   "version": "3.7.3"
  }
 },
 "nbformat": 4,
 "nbformat_minor": 2
}
